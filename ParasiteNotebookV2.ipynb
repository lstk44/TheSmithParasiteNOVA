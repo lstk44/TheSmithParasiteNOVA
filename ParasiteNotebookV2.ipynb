{
 "cells": [
  {
   "cell_type": "code",
   "execution_count": 8,
   "metadata": {},
   "outputs": [],
   "source": [
    "import os\n",
    "import pandas as pd\n",
    "import numpy as np\n",
    "import functools\n",
    "import math\n",
    "import seaborn as sns\n",
    "import matplotlib.pyplot as plt\n",
    "\n",
    "from sklearn.preprocessing import RobustScaler, OneHotEncoder\n",
    "from sklearn.impute import KNNImputer\n",
    "from sklearn.model_selection import train_test_split, learning_curve, RandomizedSearchCV\n",
    "from sklearn.feature_selection import RFECV\n",
    "from sklearn.linear_model import LogisticRegression\n",
    "from sklearn.svm import LinearSVC, SVC\n",
    "from sklearn.neighbors import KNeighborsClassifier\n",
    "from sklearn.tree import DecisionTreeClassifier, plot_tree\n",
    "from sklearn.ensemble import RandomForestClassifier\n",
    "from sklearn.neural_network import MLPClassifier\n",
    "from sklearn.metrics import RocCurveDisplay, roc_auc_score, f1_score, classification_report"
   ]
  },
  {
   "cell_type": "code",
   "execution_count": 9,
   "metadata": {},
   "outputs": [],
   "source": [
    "import warnings\n",
    "warnings.simplefilter(\"ignore\", UserWarning)"
   ]
  },
  {
   "cell_type": "code",
   "execution_count": 10,
   "metadata": {},
   "outputs": [
    {
     "name": "stdout",
     "output_type": "stream",
     "text": [
      "['test_demo', 'test_habits', 'test_health', 'train_demo', 'train_habits', 'train_health']\n"
     ]
    }
   ],
   "source": [
    "data = {dataset_name.replace('.xlsx', ''): pd.read_excel(f'Data/{dataset_name}') for dataset_name in os.listdir('Data') if 'xlsx' in dataset_name} \n",
    "\n",
    "print(list(data.keys()))"
   ]
  },
  {
   "cell_type": "code",
   "execution_count": 11,
   "metadata": {},
   "outputs": [],
   "source": [
    "data_frames = [data['train_demo'], data['train_habits'], data['train_health']]\n",
    "df = functools.reduce(lambda  left,right: pd.merge(left,right,on=['PatientID'], how='outer'), data_frames).set_index('PatientID')\n",
    "\n",
    "data_frames = [data['test_demo'], data['test_habits'], data['test_health']]\n",
    "df_test = functools.reduce(lambda  left,right: pd.merge(left,right,on=['PatientID'], how='outer'), data_frames).set_index('PatientID')"
   ]
  },
  {
   "cell_type": "markdown",
   "metadata": {},
   "source": [
    "---\n",
    "# Baseline\n",
    "\n",
    "- only numeric features"
   ]
  },
  {
   "cell_type": "code",
   "execution_count": 12,
   "metadata": {},
   "outputs": [
    {
     "data": {
      "text/plain": [
       "0.7547169811320754"
      ]
     },
     "execution_count": 12,
     "metadata": {},
     "output_type": "execute_result"
    }
   ],
   "source": [
    "x, y = df.drop(columns = ['Disease']), df['Disease']\n",
    "\n",
    "xnumeric = x.select_dtypes(include = np.number)\n",
    "\n",
    "xtrain, xval, ytrain, yval = train_test_split(xnumeric, y, random_state = 111 ,test_size = 0.3, shuffle = True , stratify = y)\n",
    "\n",
    "xtrain_index = xtrain.index\n",
    "xval_index = xval.index\n",
    "\n",
    "model = LogisticRegression(max_iter = 500, random_state = 1)\n",
    "model.fit(xtrain,ytrain)\n",
    "\n",
    "ypred = model.predict(xval)\n",
    "\n",
    "f1_score(yval, ypred)"
   ]
  },
  {
   "cell_type": "markdown",
   "metadata": {},
   "source": [
    "---\n",
    "# Preprocessing"
   ]
  },
  {
   "cell_type": "code",
   "execution_count": 13,
   "metadata": {},
   "outputs": [],
   "source": [
    "def preprocessing(dataframe):\n",
    "\n",
    "    # fix Birth_Year errors (1869 > 1969)\n",
    "    dataframe['Birth_Year'] = [i + 100 if i < 1900 else i for i in dataframe['Birth_Year']]\n",
    "\n",
    "    # add Age column\n",
    "    dataframe['Age'] = [2022 - i for i in dataframe['Birth_Year']]\n",
    "\n",
    "    # add Gender column (1: Male, 0: Female)\n",
    "    # afterwards drop column Name\n",
    "    dataframe['Gender']  = [1 if i.split(' ')[0] == 'Mr.' else 0 for i in dataframe['Name']]\n",
    "    dataframe.drop(columns = ['Name'], inplace = True)\n",
    "\n",
    "    # add column population density\n",
    "    dataframe['Region'] = [i.lower() for i in dataframe['Region']]\n",
    "    dataframe['Region_Density'] = [dataframe['Region'].value_counts(normalize = True)[i] for i in dataframe['Region']]\n",
    "\n",
    "    # encode Smoking_Habit & Exercise to binary (1: Yes, 0: No)\n",
    "    dataframe['Smoking_Habit'] = [1 if i == 'Yes' else 0 for i in dataframe['Smoking_Habit']]\n",
    "    dataframe['Exercise'] = [1 if i == 'Yes' else 0 for i in dataframe['Exercise']]\n",
    "\n",
    "    # impute missing values in column \"Education\" with mode\n",
    "    dataframe['Education'].fillna(dataframe['Education'].mode()[0], inplace=True)\n",
    "\n",
    "    # split x in numeric and categorical features\n",
    "    xnumeric, xcategorical = dataframe.select_dtypes(include = np.number), dataframe.select_dtypes(exclude = np.number)\n",
    "\n",
    "    # One-hot-encoding categorical features\n",
    "    encoder = OneHotEncoder(handle_unknown='ignore')\n",
    "    x_cat_encoded = pd.DataFrame(encoder.fit_transform(xcategorical).toarray(), columns = encoder.get_feature_names_out(), index = xcategorical.index) \n",
    "\n",
    "    # Scale numeric features\n",
    "    scaler = RobustScaler()\n",
    "    x_num_scaled = pd.DataFrame(scaler.fit_transform(xnumeric), index = xnumeric.index ,columns = xnumeric.columns)\n",
    "\n",
    "    xpreprocessed = pd.concat([x_num_scaled, x_cat_encoded], axis = 1)\n",
    "\n",
    "    return xpreprocessed"
   ]
  },
  {
   "cell_type": "code",
   "execution_count": 14,
   "metadata": {},
   "outputs": [
    {
     "data": {
      "text/plain": [
       "0.8663967611336032"
      ]
     },
     "execution_count": 14,
     "metadata": {},
     "output_type": "execute_result"
    }
   ],
   "source": [
    "x, y = preprocessing(x), y.loc[x.index]\n",
    "\n",
    "xtrain, xval, ytrain, yval = x.loc[xtrain_index], x.loc[xval_index], y.loc[xtrain_index], y.loc[xval_index]\n",
    "\n",
    "model = LogisticRegression(max_iter = 500, random_state = 1)\n",
    "model.fit(xtrain,ytrain)\n",
    "\n",
    "ypred = model.predict(xval)\n",
    "\n",
    "f1_score(yval, ypred)"
   ]
  },
  {
   "cell_type": "markdown",
   "metadata": {},
   "source": [
    "---\n",
    "# Try better model"
   ]
  },
  {
   "cell_type": "code",
   "execution_count": 15,
   "metadata": {},
   "outputs": [
    {
     "name": "stdout",
     "output_type": "stream",
     "text": [
      "F1 score with RandomForest: 0.9635627530364373\n"
     ]
    }
   ],
   "source": [
    "model = RandomForestClassifier(random_state = 2)\n",
    "model.fit(xtrain,ytrain)\n",
    "\n",
    "ypred = model.predict(xval)\n",
    "\n",
    "print(f'F1 score with RandomForest: {f1_score(yval, ypred)}')"
   ]
  },
  {
   "cell_type": "markdown",
   "metadata": {},
   "source": [
    "---\n",
    "# Try embedded feature selection"
   ]
  },
  {
   "cell_type": "code",
   "execution_count": 18,
   "metadata": {},
   "outputs": [],
   "source": [
    "from sklearn.feature_selection import SelectFromModel"
   ]
  },
  {
   "cell_type": "code",
   "execution_count": 37,
   "metadata": {},
   "outputs": [],
   "source": [
    "forest = RandomForestClassifier(random_state = 2)\n",
    "forest.fit(xtrain, ytrain)\n",
    "sfm = SelectFromModel(forest, prefit=True)"
   ]
  },
  {
   "cell_type": "code",
   "execution_count": 20,
   "metadata": {},
   "outputs": [
    {
     "name": "stdout",
     "output_type": "stream",
     "text": [
      "F1 score with SelectFromModel: 0.9672131147540983\n"
     ]
    }
   ],
   "source": [
    "xtrain_fs = sfm.transform(xtrain)\n",
    "xval_fs = sfm.transform(xval)\n",
    "\n",
    "model = RandomForestClassifier(random_state = 2)\n",
    "model.fit(xtrain_fs, ytrain)\n",
    "\n",
    "ypred = model.predict(xval_fs)\n",
    "\n",
    "print(f'F1 score with SelectFromModel: {f1_score(yval, ypred)}')"
   ]
  },
  {
   "cell_type": "markdown",
   "metadata": {},
   "source": [
    "# Try RFE"
   ]
  },
  {
   "cell_type": "code",
   "execution_count": 16,
   "metadata": {},
   "outputs": [],
   "source": [
    "model = RandomForestClassifier(random_state = 2)\n",
    "rfe = RFECV(model, cv = 5, scoring = 'f1')\n",
    "rfe.fit(xtrain, ytrain)\n",
    "opt_features = list(rfe.get_feature_names_out(input_features = list(xtrain.columns)))"
   ]
  },
  {
   "cell_type": "code",
   "execution_count": 17,
   "metadata": {},
   "outputs": [
    {
     "name": "stdout",
     "output_type": "stream",
     "text": [
      "F1 score with RFE: 0.9877551020408164\n"
     ]
    }
   ],
   "source": [
    "xtrain_fs = rfe.transform(xtrain)\n",
    "xval_fs = rfe.transform(xval)\n",
    "\n",
    "model = RandomForestClassifier(random_state = 2)\n",
    "model.fit(xtrain_fs, ytrain)\n",
    "\n",
    "ypred = model.predict(xval_fs)\n",
    "\n",
    "print(f'F1 score with RFE: {f1_score(yval, ypred)}')"
   ]
  },
  {
   "cell_type": "markdown",
   "metadata": {},
   "source": [
    "---\n",
    "# Hyperparameter tuning"
   ]
  },
  {
   "cell_type": "code",
   "execution_count": 34,
   "metadata": {},
   "outputs": [
    {
     "name": "stdout",
     "output_type": "stream",
     "text": [
      "n_estimators= 600, max_features= sqrt, max_depth= 70, bootstrap= True\n"
     ]
    }
   ],
   "source": [
    "param_grid = {\n",
    "                'bootstrap': [True, False],\n",
    "                'max_depth': [50, 60, 70, 80, 90, 100, None],\n",
    "                'max_features': ['auto', 'sqrt'],\n",
    "                'n_estimators': [200, 400, 600, 800, 1000]\n",
    "            }\n",
    "\n",
    "model = RandomForestClassifier(random_state = 2)\n",
    "search = RandomizedSearchCV(estimator = model, param_distributions = param_grid, scoring = 'f1', cv = 3, random_state = 3, n_jobs = -1)\n",
    "search.fit(xtrain_fs, ytrain)\n",
    "\n",
    "print(str(search.best_params_).replace('{','').replace('}','').replace(\"'\",\"\").replace(':','='))"
   ]
  },
  {
   "cell_type": "code",
   "execution_count": 29,
   "metadata": {},
   "outputs": [
    {
     "name": "stdout",
     "output_type": "stream",
     "text": [
      "F1 score with RandomizedSearch: 0.97119341563786\n"
     ]
    }
   ],
   "source": [
    "model = RandomForestClassifier(**search.best_params_, random_state = 2)\n",
    "model.fit(xtrain_fs, ytrain)\n",
    "\n",
    "ypred = model.predict(xval_fs)\n",
    "\n",
    "print(f'F1 score with RandomizedSearch: {f1_score(yval, ypred)}')"
   ]
  },
  {
   "cell_type": "markdown",
   "metadata": {},
   "source": [
    "# Try GridSearch instead of RandomizedSearch"
   ]
  },
  {
   "cell_type": "code",
   "execution_count": 30,
   "metadata": {},
   "outputs": [],
   "source": [
    "from sklearn.model_selection import GridSearchCV"
   ]
  },
  {
   "cell_type": "code",
   "execution_count": 38,
   "metadata": {},
   "outputs": [
    {
     "data": {
      "text/plain": [
       "GridSearchCV(estimator=RandomForestClassifier(random_state=2), n_jobs=-1,\n",
       "             param_grid={'bootstrap': [True, False],\n",
       "                         'max_depth': [50, 60, 70, 80, 90, 100, None],\n",
       "                         'max_features': ['auto', 'sqrt'],\n",
       "                         'n_estimators': [200, 400, 600, 800, 1000]})"
      ]
     },
     "execution_count": 38,
     "metadata": {},
     "output_type": "execute_result"
    }
   ],
   "source": [
    "forest = RandomForestClassifier(random_state = 2)\n",
    "search = GridSearchCV(forest, param_grid, n_jobs = -1)\n",
    "search.fit(xtrain_fs, ytrain)"
   ]
  },
  {
   "cell_type": "code",
   "execution_count": null,
   "metadata": {},
   "outputs": [
    {
     "name": "stdout",
     "output_type": "stream",
     "text": [
      "F1 score with GridSearch: 0.9794238683127573\n"
     ]
    }
   ],
   "source": [
    "model = RandomForestClassifier(**search.best_params_, random_state = 2)\n",
    "model.fit(xtrain_fs, ytrain)\n",
    "\n",
    "ypred = model.predict(xval_fs)\n",
    "\n",
    "print(f'F1 score with GridSearch: {f1_score(yval, ypred)}')"
   ]
  }
 ],
 "metadata": {
  "kernelspec": {
   "display_name": "Python 3.10.8 64-bit (microsoft store)",
   "language": "python",
   "name": "python3"
  },
  "language_info": {
   "codemirror_mode": {
    "name": "ipython",
    "version": 3
   },
   "file_extension": ".py",
   "mimetype": "text/x-python",
   "name": "python",
   "nbconvert_exporter": "python",
   "pygments_lexer": "ipython3",
   "version": "3.10.8"
  },
  "orig_nbformat": 4,
  "vscode": {
   "interpreter": {
    "hash": "8540791a84c9dd273039c82e4c4906b2f22bd80b7ff15c37ffcc5926b6e4ab9b"
   }
  }
 },
 "nbformat": 4,
 "nbformat_minor": 2
}
